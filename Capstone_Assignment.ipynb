{
 "cells": [
  {
   "cell_type": "markdown",
   "id": "461d2c41-0187-4ea5-ba9a-23c828035749",
   "metadata": {},
   "source": [
    "# This is a notebook for Capstone Project\n",
    "\n",
    "By *Sariel WONG*\n",
    "\n",
    "This notebook is reserved for Capstone Project, and all assignment required will be involved in this workbook"
   ]
  },
  {
   "cell_type": "code",
   "execution_count": 1,
   "id": "1e4e7f90-3919-4de8-9044-90f8bcd6498a",
   "metadata": {},
   "outputs": [],
   "source": [
    "import pandas as pd\n",
    "import numpy as np"
   ]
  },
  {
   "cell_type": "code",
   "execution_count": 2,
   "id": "3d29b1a4-36cc-4f9c-b176-b28bc0bf58bb",
   "metadata": {},
   "outputs": [
    {
     "name": "stdout",
     "output_type": "stream",
     "text": [
      "Hello Capstone Project Course!\n"
     ]
    }
   ],
   "source": [
    "print(\"Hello Capstone Project Course!\")"
   ]
  }
 ],
 "metadata": {
  "kernelspec": {
   "display_name": "Python 3",
   "language": "python",
   "name": "python3"
  },
  "language_info": {
   "codemirror_mode": {
    "name": "ipython",
    "version": 3
   },
   "file_extension": ".py",
   "mimetype": "text/x-python",
   "name": "python",
   "nbconvert_exporter": "python",
   "pygments_lexer": "ipython3",
   "version": "3.8.8"
  }
 },
 "nbformat": 4,
 "nbformat_minor": 5
}
