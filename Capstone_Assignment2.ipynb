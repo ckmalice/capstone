{
 "cells": [
  {
   "cell_type": "code",
   "execution_count": 1,
   "id": "a99dba9f-c420-4118-b698-f39ddbf969d3",
   "metadata": {},
   "outputs": [],
   "source": [
    "import pandas as pd\n",
    "import numpy as np\n",
    "import requests"
   ]
  },
  {
   "cell_type": "code",
   "execution_count": 16,
   "id": "fd4b5245-a7c3-4cae-abb5-99ee72e921c9",
   "metadata": {},
   "outputs": [],
   "source": [
    "from bs4 import BeautifulSoup\n",
    "soup = BeautifulSoup(requests.get('https://en.wikipedia.org/wiki/List_of_postal_codes_of_Canada:_M').text, \"html5lib\")"
   ]
  },
  {
   "cell_type": "code",
   "execution_count": 35,
   "id": "8004639c-9575-4947-a073-08e2dc4e2706",
   "metadata": {},
   "outputs": [
    {
     "data": {
      "text/plain": [
       "103"
      ]
     },
     "execution_count": 35,
     "metadata": {},
     "output_type": "execute_result"
    }
   ],
   "source": [
    "table_row = soup.find(\"table\").find_all(\"td\")\n",
    "table_row\n",
    "\n",
    "tcontents = []\n",
    "\n",
    "for r in table_row:\n",
    "    cell = {}\n",
    "    if r.span.text == \"Not assigned\":\n",
    "        pass\n",
    "    else:\n",
    "        cell[\"PostalCode\"] = r.p.b.text\n",
    "        cell[\"Borough\"] = (r.span.text).split(\"(\")[0]\n",
    "        cell['Neighborhood'] = (((((r.span.text).split('(')[1]).strip(')')).replace(' /',',')).replace(')',' ')).strip(' ')\n",
    "        tcontents.append(cell)\n",
    "\n",
    "df=pd.DataFrame(tcontents)\n",
    "df['Borough']=df['Borough'].replace({'Downtown TorontoStn A PO Boxes25 The Esplanade':'Downtown Toronto Stn A',\n",
    "                                             'East TorontoBusiness reply mail Processing Centre969 Eastern':'East Toronto Business',\n",
    "                                             'EtobicokeNorthwest':'Etobicoke Northwest','East YorkEast Toronto':'East York/East Toronto',\n",
    "                                             'MississaugaCanada Post Gateway Processing Centre':'Mississauga'})\n",
    "df.shape[0]"
   ]
  },
  {
   "cell_type": "code",
   "execution_count": null,
   "id": "0381b9a4-621f-487c-aecc-bff21f135b3a",
   "metadata": {},
   "outputs": [],
   "source": []
  }
 ],
 "metadata": {
  "kernelspec": {
   "display_name": "Python 3",
   "language": "python",
   "name": "python3"
  },
  "language_info": {
   "codemirror_mode": {
    "name": "ipython",
    "version": 3
   },
   "file_extension": ".py",
   "mimetype": "text/x-python",
   "name": "python",
   "nbconvert_exporter": "python",
   "pygments_lexer": "ipython3",
   "version": "3.8.8"
  }
 },
 "nbformat": 4,
 "nbformat_minor": 5
}
